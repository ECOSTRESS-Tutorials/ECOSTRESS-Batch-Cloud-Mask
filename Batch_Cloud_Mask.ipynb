{
 "cells": [
  {
   "cell_type": "markdown",
   "metadata": {},
   "source": [
    "# Applying Cloud Masks to a Batch of Images\n",
    "### ECOSTRESS Tutorials\n",
    "###### This code is best suited for use when you have a folder of files and their associated cloud masks that you would like to be applied. \n",
    "###### This code is written to cloud mask a Land Surface Temperature (LST) file, but may be modified for use with other ECOSTRESS data products."
   ]
  },
  {
   "cell_type": "markdown",
   "metadata": {},
   "source": [
    "### Import the Libraries we Need to Apply the Cloud Mask"
   ]
  },
  {
   "cell_type": "code",
   "execution_count": null,
   "metadata": {},
   "outputs": [],
   "source": [
    "import os\n",
    "from os import makedirs\n",
    "from os.path import join, basename, splitext\n",
    "from glob import glob\n",
    "from datetime import datetime\n",
    "import numpy as np\n",
    "import pandas as pd\n",
    "import rioxarray\n",
    "import rasterio"
   ]
  },
  {
   "cell_type": "markdown",
   "metadata": {},
   "source": [
    "### Set Constants for the Project"
   ]
  },
  {
   "cell_type": "code",
   "execution_count": null,
   "metadata": {},
   "outputs": [],
   "source": [
    "#Replace this with the path to the folder where the downloaded files are kept, wrapped in quotes\n",
    "input_directory = r\"Replace_this_text_with_folder_path\"\n",
    "#Replace this with the path to the folder where you want the output files to be stored, wrapped in quotes\n",
    "output_directory = r\"Replace_this_text_with_folder_path\"\n",
    "#This line makes sure that the output directory exists\n",
    "makedirs(output_directory, exist_ok=True)\n",
    "\n",
    "#Establish aesthetics \n",
    "pd.set_option(\"display.max_colwidth\", None) #Shows the entire table when it prints\n",
    "alpha = 0.7 #Sets the transparency of the image to 70%\n",
    "fig_width_px = 1080 #Defines the size of the figure\n",
    "fig_height_px = 720\n",
    "ET_cmap = [ #Lists the colors we want to use in our displays\n",
    "    \"#f6e8c3\",\n",
    "    \"#d8b365\",\n",
    "    \"#99974a\",\n",
    "    \"#53792d\",\n",
    "    \"#6bdfd2\",\n",
    "    \"#1839c5\"\n",
    "]"
   ]
  },
  {
   "cell_type": "markdown",
   "metadata": {},
   "source": [
    "\n",
    "### Collect File Names"
   ]
  },
  {
   "cell_type": "code",
   "execution_count": null,
   "metadata": {},
   "outputs": [],
   "source": [
    "#Find all files in the input directory containing 'LST' and put them in a table\n",
    "ST_raw_filenames = pd.DataFrame({\"ST_raw_filename\": sorted(glob(join(input_directory, \"*_LST_*.tif\")))})\n",
    "#Add the date of the LST images from the file name to the table\n",
    "ST_raw_filenames[\"datetime_UTC\"] = ST_raw_filenames.ST_raw_filename.apply(lambda ST_raw_filename: datetime.strptime(splitext(basename(ST_raw_filename))[0].split(\"_\")[-2][3:], \"%Y%j%H%M%S\"))\n",
    "#Find all files in the input directory containing 'CloudMask' and put them in a table\n",
    "cloud_filenames = pd.DataFrame({\"cloud_filename\": sorted(glob(join(input_directory, \"*_CloudMask_*.tif\")))})\n",
    "#Add the date of the CloudMask images from the file name to the table\n",
    "cloud_filenames[\"datetime_UTC\"] = cloud_filenames.cloud_filename.apply(lambda cloud_filename: datetime.strptime(splitext(basename(cloud_filename))[0].split(\"_\")[-2][3:], \"%Y%j%H%M%S\"))\n",
    "#Merge the LST and CloudMask tables together\n",
    "ST_filenames = pd.merge(ST_raw_filenames, cloud_filenames)\n",
    "#Create the output file name \n",
    "ST_filenames[\"ST_masked_filename\"] = ST_filenames.datetime_UTC.apply(lambda datetime_UTC: join(output_directory, f\"{datetime_UTC:%Y.%m.%d.%H.%M.%S}_ST.tif\"))\n",
    "#View the table we created\n",
    "ST_filenames = ST_filenames[[\"datetime_UTC\", \"ST_raw_filename\", \"cloud_filename\", \"ST_masked_filename\"]]\n",
    "ST_filenames"
   ]
  },
  {
   "cell_type": "markdown",
   "metadata": {},
   "source": [
    "### Apply the Cloud Mask to the LST Image"
   ]
  },
  {
   "cell_type": "code",
   "execution_count": null,
   "metadata": {},
   "outputs": [],
   "source": [
    "#Loop through each line of the table\n",
    "for i, (datetime_UTC, ST_raw_filename, cloud_filename, ST_masked_filename) in ST_filenames.iterrows():\n",
    "    print(f\"ST masked file: {ST_masked_filename}\")\n",
    "\n",
    "    #Open the LST image file using rioxarray\n",
    "    ST = rioxarray.open_rasterio(ST_raw_filename).squeeze(\"band\", drop=True)\n",
    "    #Convert 0s to NaN, then convert the values to Celsius\n",
    "    ST.data = np.where(ST.data == 0, np.nan, ST.data*0.02)-273.15\n",
    "    #Open the Cloud Mask image file using rioxarray and reproject it to be the same as the LST file\n",
    "    cloud = rioxarray.open_rasterio(cloud_filename).squeeze(\"band\", drop=True).rio.reproject_match(ST)\n",
    "    #Bitshifts the array two bits to the right, and uses & 1 to create a binary cloud mask\n",
    "    cloud.data = (cloud.data >> 2) & 1\n",
    "    #Apply the Cloud Mask to the LST layer by saying if the cloud mask is true, set the pixel to NaN \n",
    "    ST.data = np.where(cloud.data, np.nan, ST.data)\n",
    "\n",
    "    ###Remove any outliers\n",
    "    #Calculate the 8% and 98% quantile\n",
    "    low, high = np.nanquantile(ST.data, [0.08, 0.98])\n",
    "    #Make any pixel lower than 8% quantile or higher than 98% quantile NaN\n",
    "    ST.data = np.where((ST.data < low) | (ST.data > high), np.nan, ST.data)\n",
    "\n",
    "    ##Make sure we are only using high quality scenes\n",
    "    #Quantify how many pixels are missing (NaN)\n",
    "    missing_proportion = np.count_nonzero(np.isnan(ST.data)) / ST.data.size\n",
    "    #Print the number of pixels that are missing\n",
    "    print(f\"missing proportion: {missing_proportion * 100}%\")\n",
    "\n",
    "    #if more than 50% of pixels are missing, we will skip the image\n",
    "    if missing_proportion > 0.5:\n",
    "        print(\"Low quality scene. Skipping this file.\")\n",
    "        continue\n",
    "\n",
    "    #Get the metadata from the original ST file\n",
    "    with rasterio.open(ST_raw_filename) as src:\n",
    "        out_meta = src.meta.copy()\n",
    "\n",
    "    #Update the metadata without applying the scale factor again\n",
    "    out_meta.update({\n",
    "        \"driver\": \"GTiff\",\n",
    "        \"height\": ST.shape[0],\n",
    "        \"width\": ST.shape[1],\n",
    "        \"dtype\": 'float32'\n",
    "    })\n",
    "    \n",
    "    #Save the masked image with the updated metadata\n",
    "    with rasterio.open(ST_masked_filename, 'w', **out_meta) as output_raster:\n",
    "        output_raster.write(ST.data.astype('float32'), 1)"
   ]
  },
  {
   "cell_type": "code",
   "execution_count": null,
   "metadata": {},
   "outputs": [],
   "source": []
  }
 ],
 "metadata": {
  "kernelspec": {
   "display_name": "ECOSTRESS",
   "language": "python",
   "name": "python3"
  },
  "language_info": {
   "codemirror_mode": {
    "name": "ipython",
    "version": 3
   },
   "file_extension": ".py",
   "mimetype": "text/x-python",
   "name": "python",
   "nbconvert_exporter": "python",
   "pygments_lexer": "ipython3",
   "version": "3.11.9"
  }
 },
 "nbformat": 4,
 "nbformat_minor": 2
}
